{
 "cells": [
  {
   "cell_type": "markdown",
   "metadata": {},
   "source": [
    "## Model Final"
   ]
  },
  {
   "cell_type": "code",
   "execution_count": 48,
   "metadata": {},
   "outputs": [],
   "source": [
    "import os\n",
    "import csv\n",
    "import cv2\n",
    "import pandas as pd\n",
    "import numpy as np\n",
    "import matplotlib.pyplot as plt\n",
    "import matplotlib.image as mpimg\n",
    "from sklearn.model_selection import train_test_split\n",
    "from sklearn.utils import shuffle\n",
    "from keras.models import Sequential\n",
    "from keras.layers import Dense, Dropout, Activation,Cropping2D\n",
    "from keras.layers import Convolution2D, MaxPooling2D\n",
    "from keras.layers import Flatten, SpatialDropout2D , ELU\n",
    "from keras.layers.core import Lambda\n",
    "from keras.optimizers import Adam\n",
    "from keras.utils import np_utils\n",
    "from PIL import Image\n",
    "import pickle\n",
    "\n",
    "%matplotlib inline"
   ]
  },
  {
   "cell_type": "code",
   "execution_count": 49,
   "metadata": {
    "collapsed": true
   },
   "outputs": [],
   "source": [
    "from sklearn.utils import shuffle"
   ]
  },
  {
   "cell_type": "markdown",
   "metadata": {},
   "source": [
    "-------"
   ]
  },
  {
   "cell_type": "markdown",
   "metadata": {},
   "source": [
    "### Generator"
   ]
  },
  {
   "cell_type": "code",
   "execution_count": 50,
   "metadata": {
    "collapsed": true
   },
   "outputs": [],
   "source": [
    "def generator(samples, batch_size):\n",
    "    num_samples = len(samples)\n",
    "    while 1: # Loop forever so the generator never terminates\n",
    "        shuffle(samples)\n",
    "        for offset in range(0, num_samples, batch_size):\n",
    "            batch_samples = samples[offset:offset+batch_size]\n",
    "\n",
    "            images = []\n",
    "            angles = []\n",
    "            for batch_sample in batch_samples:\n",
    "                \n",
    "                name = batch_sample[1]\n",
    "                \n",
    "                if name[0] ==' ':\n",
    "                    name = name[1:]\n",
    "                center_image = mpimg.imread(name)\n",
    "                center_angle = float(batch_sample[2])\n",
    "                images.append(center_image)\n",
    "                angles.append(center_angle)\n",
    "\n",
    "            X_train = np.array(images)\n",
    "            y_train = np.array(angles)\n",
    "            \n",
    "            yield shuffle(X_train, y_train)\n"
   ]
  },
  {
   "cell_type": "markdown",
   "metadata": {},
   "source": [
    "--------"
   ]
  },
  {
   "cell_type": "code",
   "execution_count": 51,
   "metadata": {
    "collapsed": true
   },
   "outputs": [],
   "source": [
    "def resize(image):\n",
    "    import tensorflow as tf\n",
    "    return tf.image.resize_images(image,[40,160])"
   ]
  },
  {
   "cell_type": "markdown",
   "metadata": {},
   "source": [
    "### Model "
   ]
  },
  {
   "cell_type": "code",
   "execution_count": 52,
   "metadata": {
    "collapsed": true
   },
   "outputs": [],
   "source": [
    "def get_model(verbose):\n",
    "\n",
    "    # Model adapted from Comma.ai model\n",
    "\n",
    "    model = Sequential()\n",
    "\n",
    "    # Crop 70 pixels from the top of the image and 25 from the bottom\n",
    "    model.add(Cropping2D(input_shape=(160, 320, 3),\n",
    "                         cropping=((64, 32), (0, 0)),\n",
    "                         data_format=\"channels_last\"))\n",
    "    \n",
    "   # resize the images to 40x160\n",
    "    model.add(Lambda(resize))\n",
    "    \n",
    "    # Normalise the data\n",
    "    model.add(Lambda(lambda x: (x/255.0) - 0.5))\n",
    "\n",
    "    # Conv layer 1\n",
    "    model.add(Convolution2D(16, (8, 8), padding=\"same\", strides=(4, 4)))\n",
    "    model.add(ELU())\n",
    "\n",
    "    \n",
    "    # Conv layer 2\n",
    "    model.add(Convolution2D(32, (5, 5), padding=\"same\", strides=(2, 2)))\n",
    "    model.add(ELU())\n",
    "\n",
    "    # Conv layer 3\n",
    "    model.add(Convolution2D(64, (5, 5), padding=\"same\", strides=(2, 2)))\n",
    "              \n",
    "\n",
    "    model.add(Flatten())\n",
    "    model.add(Dropout(.2))\n",
    "    model.add(ELU())\n",
    "\n",
    "    # Fully connected layer 1\n",
    "    model.add(Dense(512))\n",
    "    model.add(Dropout(.5))\n",
    "    model.add(ELU())\n",
    "\n",
    "    # Fully connected layer 2\n",
    "    model.add(Dense(50))\n",
    "    model.add(ELU())\n",
    "\n",
    "    model.add(Dense(1))\n",
    "\n",
    "    adam = Adam(lr=0.0001)\n",
    "\n",
    "    model.compile(optimizer=adam, loss=\"mse\", metrics=['accuracy'])\n",
    "    if verbose:\n",
    "        print(\"Model summary:\\n\", model.summary())\n",
    "    return model"
   ]
  },
  {
   "cell_type": "markdown",
   "metadata": {},
   "source": [
    "###  Train model"
   ]
  },
  {
   "cell_type": "code",
   "execution_count": 53,
   "metadata": {
    "collapsed": true
   },
   "outputs": [],
   "source": [
    "def train_model(batch_size, nb_epoch, verbose=False):\n",
    "    \n",
    "    samples = []\n",
    "    with open('log.csv') as csvfile:\n",
    "            reader = csv.reader(csvfile)\n",
    "            for line in reader:\n",
    "                samples.append(line)\n",
    "            \n",
    "   \n",
    "    print(\"No of Samples: \", len(samples))    \n",
    "            \n",
    "    # Remove header\n",
    "    samples = samples[1:]\n",
    "        \n",
    "    #shuffle the data   \n",
    "    samples = shuffle(samples)    \n",
    "        \n",
    "    # Split samples into training and validation sets to reduce overfitting\n",
    "    train_samples, validation_samples = train_test_split(samples, test_size=0.1)\n",
    "\n",
    "    \n",
    "    # compile and train the model using the generator function\n",
    "    train_generator = generator(train_samples, batch_size)\n",
    "    validation_generator = generator(validation_samples, batch_size)\n",
    "    \n",
    "    \n",
    "    # call the model\n",
    "    model = get_model(verbose)\n",
    "\n",
    "    # Train model using generator\n",
    "    history_object = model.fit_generator(train_generator, \n",
    "                     steps_per_epoch = len(train_samples), \n",
    "                     validation_data = validation_generator,\n",
    "                     validation_steps = len(validation_samples),\n",
    "                     epochs = nb_epoch)\n",
    "            \n",
    "\n",
    "    # print the keys contained in the history object\n",
    "    print(history_object.history.keys())\n",
    "\n",
    "\n",
    "    # Save model\n",
    "    model.save(\"model.h5\")\n",
    "    #print(\"Saved model to disk\")\n",
    "    return history_object\n",
    "    "
   ]
  },
  {
   "cell_type": "markdown",
   "metadata": {},
   "source": [
    "--------"
   ]
  },
  {
   "cell_type": "markdown",
   "metadata": {},
   "source": [
    "### Plotter"
   ]
  },
  {
   "cell_type": "code",
   "execution_count": 54,
   "metadata": {
    "collapsed": true
   },
   "outputs": [],
   "source": [
    "def plotter(history_object):\n",
    "    # plot the training and validation loss for each epoch\n",
    "    plt.plot(history_object.history['loss'])\n",
    "    plt.plot(history_object.history['val_loss'])\n",
    "    plt.title('model mean squared error loss')\n",
    "    plt.ylabel('mean squared error loss')\n",
    "    plt.xlabel('epoch')\n",
    "    plt.legend(['training set', 'validation set'], loc='upper right')\n",
    "    plt.show()"
   ]
  },
  {
   "cell_type": "markdown",
   "metadata": {},
   "source": [
    "-------"
   ]
  },
  {
   "cell_type": "markdown",
   "metadata": {},
   "source": [
    "### Run"
   ]
  },
  {
   "cell_type": "code",
   "execution_count": null,
   "metadata": {},
   "outputs": [
    {
     "name": "stdout",
     "output_type": "stream",
     "text": [
      "Training comma.ai model\n",
      "No of Samples:  48217\n",
      "Epoch 1/20\n",
      "17293/43394 [==========>...................] - ETA: 6299s - loss: 0.0152 - acc: 0.1799"
     ]
    }
   ],
   "source": [
    "if __name__ == '__main__':\n",
    "    \n",
    "    # set the parameters\n",
    "    batch_size = 8\n",
    "    nb_epoch = 20\n",
    "    verbose = False\n",
    "    print('Training comma.ai model')\n",
    "    history_object = train_model(batch_size, nb_epoch, verbose)\n",
    "    print('DONE: Training comma.ai model')\n",
    "    \n",
    "    # plot the error\n",
    "    plotter(history_object)"
   ]
  },
  {
   "cell_type": "markdown",
   "metadata": {
    "collapsed": true
   },
   "source": [
    "-----------"
   ]
  },
  {
   "cell_type": "code",
   "execution_count": null,
   "metadata": {
    "collapsed": true
   },
   "outputs": [],
   "source": []
  }
 ],
 "metadata": {
  "kernelspec": {
   "display_name": "Python 3",
   "language": "python",
   "name": "python3"
  },
  "language_info": {
   "codemirror_mode": {
    "name": "ipython",
    "version": 3
   },
   "file_extension": ".py",
   "mimetype": "text/x-python",
   "name": "python",
   "nbconvert_exporter": "python",
   "pygments_lexer": "ipython3",
   "version": "3.5.2"
  },
  "widgets": {
   "state": {},
   "version": "1.1.2"
  }
 },
 "nbformat": 4,
 "nbformat_minor": 2
}
