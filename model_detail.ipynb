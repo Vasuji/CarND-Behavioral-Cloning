{
 "cells": [
  {
   "cell_type": "markdown",
   "metadata": {},
   "source": [
    "## Model Final"
   ]
  },
  {
   "cell_type": "code",
   "execution_count": 1,
   "metadata": {},
   "outputs": [
    {
     "name": "stderr",
     "output_type": "stream",
     "text": [
      "Using TensorFlow backend.\n"
     ]
    }
   ],
   "source": [
    "import os\n",
    "import csv\n",
    "import cv2\n",
    "import pandas as pd\n",
    "import numpy as np\n",
    "import matplotlib.pyplot as plt\n",
    "import matplotlib.image as mpimg\n",
    "from sklearn.model_selection import train_test_split\n",
    "from sklearn.utils import shuffle\n",
    "from keras.models import Sequential\n",
    "from keras.layers import Dense, Dropout, Activation,Cropping2D\n",
    "from keras.layers import Convolution2D, MaxPooling2D\n",
    "from keras.layers import Flatten, SpatialDropout2D , ELU\n",
    "from keras.layers.core import Lambda\n",
    "from keras.optimizers import Adam\n",
    "from keras.utils import np_utils\n",
    "from PIL import Image\n",
    "import pickle\n",
    "\n",
    "%matplotlib inline"
   ]
  },
  {
   "cell_type": "markdown",
   "metadata": {},
   "source": [
    "-------"
   ]
  },
  {
   "cell_type": "markdown",
   "metadata": {},
   "source": [
    "### Generator"
   ]
  },
  {
   "cell_type": "code",
   "execution_count": 2,
   "metadata": {
    "collapsed": true
   },
   "outputs": [],
   "source": [
    "def generator(samples, batch_size):\n",
    "    num_samples = len(samples)\n",
    "    while 1: # Loop forever so the generator never terminates\n",
    "        shuffle(samples)\n",
    "        for offset in range(0, num_samples, batch_size):\n",
    "            batch_samples = samples[offset:offset+batch_size]\n",
    "\n",
    "            images = []\n",
    "            angles = []\n",
    "            for batch_sample in batch_samples:\n",
    "                \n",
    "                name = batch_sample[1]\n",
    "                \n",
    "                if name[0] ==' ':\n",
    "                    name = name[1:]\n",
    "                center_image = mpimg.imread(name)\n",
    "                center_angle = float(batch_sample[2])\n",
    "                images.append(center_image)\n",
    "                angles.append(center_angle)\n",
    "\n",
    "            X_train = np.array(images)\n",
    "            y_train = np.array(angles)\n",
    "            \n",
    "            yield shuffle(X_train, y_train)\n"
   ]
  },
  {
   "cell_type": "markdown",
   "metadata": {},
   "source": [
    "--------"
   ]
  },
  {
   "cell_type": "markdown",
   "metadata": {},
   "source": [
    "### Model "
   ]
  },
  {
   "cell_type": "code",
   "execution_count": 3,
   "metadata": {
    "collapsed": true
   },
   "outputs": [],
   "source": [
    "def get_model(verbose):\n",
    "\n",
    "    # Model adapted from Comma.ai model\n",
    "\n",
    "    model = Sequential()\n",
    "\n",
    "    # Crop 70 pixels from the top of the image and 25 from the bottom\n",
    "    model.add(Cropping2D(input_shape=(160, 320, 3),\n",
    "                         cropping=((70, 25), (0, 0)),\n",
    "                         data_format=\"channels_last\"))\n",
    "    \n",
    "    # Normalise the data\n",
    "    model.add(Lambda(lambda x: (x/255.0) - 0.5))\n",
    "\n",
    "    # Conv layer 1\n",
    "    model.add(Convolution2D(16, (8, 8), padding=\"same\", strides=(4, 4)))\n",
    "    model.add(ELU())\n",
    "\n",
    "    \n",
    "    # Conv layer 2\n",
    "    model.add(Convolution2D(32, (5, 5), padding=\"same\", strides=(2, 2)))\n",
    "    model.add(ELU())\n",
    "\n",
    "    # Conv layer 3\n",
    "    model.add(Convolution2D(64, (5, 5), padding=\"same\", strides=(2, 2)))\n",
    "              \n",
    "\n",
    "    model.add(Flatten())\n",
    "    model.add(Dropout(.2))\n",
    "    model.add(ELU())\n",
    "\n",
    "    # Fully connected layer 1\n",
    "    model.add(Dense(512))\n",
    "    model.add(Dropout(.5))\n",
    "    model.add(ELU())\n",
    "\n",
    "    # Fully connected layer 2\n",
    "    model.add(Dense(50))\n",
    "    model.add(ELU())\n",
    "\n",
    "    model.add(Dense(1))\n",
    "\n",
    "    adam = Adam(lr=0.0001)\n",
    "\n",
    "    model.compile(optimizer=adam, loss=\"mse\", metrics=['accuracy'])\n",
    "    if verbose:\n",
    "        print(\"Model summary:\\n\", model.summary())\n",
    "    return model"
   ]
  },
  {
   "cell_type": "markdown",
   "metadata": {},
   "source": [
    "###  Train model"
   ]
  },
  {
   "cell_type": "code",
   "execution_count": 4,
   "metadata": {
    "collapsed": true
   },
   "outputs": [],
   "source": [
    "def train_model(batch_size, nb_epoch, verbose=False):\n",
    "    \n",
    "    samples = []\n",
    "    with open('all_log.csv') as csvfile:\n",
    "            reader = csv.reader(csvfile)\n",
    "            for line in reader:\n",
    "                samples.append(line)\n",
    "            \n",
    "    l1 = len(samples)\n",
    "    print(\"Normal-data Samples1: \", len(samples))    \n",
    "            \n",
    "    # Remove header\n",
    "    samples = samples[1:]\n",
    "        \n",
    "        \n",
    "        \n",
    "        \n",
    "    # Split samples into training and validation sets to reduce overfitting\n",
    "    train_samples, validation_samples = train_test_split(samples, test_size=0.1)\n",
    "\n",
    "    \n",
    "    # compile and train the model using the generator function\n",
    "    train_generator = generator(train_samples, batch_size)\n",
    "    validation_generator = generator(validation_samples, batch_size)\n",
    "    \n",
    "    \n",
    "    # call the model\n",
    "    model = get_model(verbose)\n",
    "\n",
    "    # Train model using generator\n",
    "    history_object = model.fit_generator(train_generator, \n",
    "                     steps_per_epoch = len(train_samples), \n",
    "                     validation_data = validation_generator,\n",
    "                     validation_steps = len(validation_samples),\n",
    "                     epochs = nb_epoch)\n",
    "            \n",
    "\n",
    "    # print the keys contained in the history object\n",
    "    print(history_object.history.keys())\n",
    "\n",
    "\n",
    "    # Save model\n",
    "    model.save(\"model.h5\")\n",
    "    #print(\"Saved model to disk\")\n",
    "    return history_object\n",
    "    "
   ]
  },
  {
   "cell_type": "markdown",
   "metadata": {},
   "source": [
    "--------"
   ]
  },
  {
   "cell_type": "markdown",
   "metadata": {},
   "source": [
    "### Plotter"
   ]
  },
  {
   "cell_type": "code",
   "execution_count": 5,
   "metadata": {
    "collapsed": true
   },
   "outputs": [],
   "source": [
    "def plotter(history_object):\n",
    "    # plot the training and validation loss for each epoch\n",
    "    plt.plot(history_object.history['loss'])\n",
    "    plt.plot(history_object.history['val_loss'])\n",
    "    plt.title('model mean squared error loss')\n",
    "    plt.ylabel('mean squared error loss')\n",
    "    plt.xlabel('epoch')\n",
    "    plt.legend(['training set', 'validation set'], loc='upper right')\n",
    "    plt.show()"
   ]
  },
  {
   "cell_type": "markdown",
   "metadata": {},
   "source": [
    "-------"
   ]
  },
  {
   "cell_type": "markdown",
   "metadata": {},
   "source": [
    "### Run"
   ]
  },
  {
   "cell_type": "code",
   "execution_count": 7,
   "metadata": {},
   "outputs": [
    {
     "name": "stdout",
     "output_type": "stream",
     "text": [
      "Training comma.ai model\n",
      "Normal-data Samples1:  24109\n",
      "Epoch 1/20\n",
      "21697/21697 [==============================] - 4745s - loss: 0.0131 - acc: 0.1804 - val_loss: 0.0164 - val_acc: 0.1855\n",
      "Epoch 2/20\n",
      "21697/21697 [==============================] - 2321s - loss: 0.0059 - acc: 0.1804 - val_loss: 0.0164 - val_acc: 0.1855\n",
      "Epoch 3/20\n",
      "21697/21697 [==============================] - 2110s - loss: 0.0044 - acc: 0.1804 - val_loss: 0.0163 - val_acc: 0.1855\n",
      "Epoch 4/20\n",
      "21697/21697 [==============================] - 2110s - loss: 0.0037 - acc: 0.1804 - val_loss: 0.0157 - val_acc: 0.1855\n",
      "Epoch 5/20\n",
      "21697/21697 [==============================] - 2106s - loss: 0.0032 - acc: 0.1804 - val_loss: 0.0155 - val_acc: 0.1855\n",
      "Epoch 6/20\n",
      "21697/21697 [==============================] - 2109s - loss: 0.0029 - acc: 0.1804 - val_loss: 0.0147 - val_acc: 0.1856\n",
      "Epoch 7/20\n",
      "21697/21697 [==============================] - 2112s - loss: 0.0027 - acc: 0.1804 - val_loss: 0.0147 - val_acc: 0.1855\n",
      "Epoch 8/20\n",
      "21697/21697 [==============================] - 2113s - loss: 0.0024 - acc: 0.1804 - val_loss: 0.0144 - val_acc: 0.1852\n",
      "Epoch 9/20\n",
      "21697/21697 [==============================] - 2129s - loss: 0.0023 - acc: 0.1804 - val_loss: 0.0140 - val_acc: 0.1852\n",
      "Epoch 10/20\n",
      "21697/21697 [==============================] - 2113s - loss: 0.0021 - acc: 0.1805 - val_loss: 0.0142 - val_acc: 0.1853\n",
      "Epoch 11/20\n",
      "21697/21697 [==============================] - 2276s - loss: 0.0020 - acc: 0.1804 - val_loss: 0.0141 - val_acc: 0.1854\n",
      "Epoch 12/20\n",
      "21697/21697 [==============================] - 2157s - loss: 0.0019 - acc: 0.1804 - val_loss: 0.0141 - val_acc: 0.1855\n",
      "Epoch 13/20\n",
      "21697/21697 [==============================] - 4732s - loss: 0.0018 - acc: 0.1804 - val_loss: 0.0145 - val_acc: 0.1856\n",
      "Epoch 14/20\n",
      "21697/21697 [==============================] - 4276s - loss: 0.0017 - acc: 0.1805 - val_loss: 0.0143 - val_acc: 0.1852\n",
      "Epoch 15/20\n",
      "21697/21697 [==============================] - 4328s - loss: 0.0016 - acc: 0.1804 - val_loss: 0.0141 - val_acc: 0.1854\n",
      "Epoch 16/20\n",
      "21697/21697 [==============================] - 4167s - loss: 0.0016 - acc: 0.1804 - val_loss: 0.0149 - val_acc: 0.1852\n",
      "Epoch 17/20\n",
      "21697/21697 [==============================] - 3893s - loss: 0.0015 - acc: 0.1804 - val_loss: 0.0145 - val_acc: 0.1855\n",
      "Epoch 18/20\n",
      "21697/21697 [==============================] - 4199s - loss: 0.0014 - acc: 0.1804 - val_loss: 0.0152 - val_acc: 0.1855\n",
      "Epoch 19/20\n",
      "21697/21697 [==============================] - 3857s - loss: 0.0014 - acc: 0.1804 - val_loss: 0.0158 - val_acc: 0.1855\n",
      "Epoch 20/20\n",
      "21697/21697 [==============================] - 5679s - loss: 0.0014 - acc: 0.1804 - val_loss: 0.0155 - val_acc: 0.1855\n",
      "dict_keys(['loss', 'val_loss', 'val_acc', 'acc'])\n",
      "DONE: Training comma.ai model\n"
     ]
    },
    {
     "data": {
      "image/png": "[encoded data removed]",
      "text/plain": [
       "<matplotlib.figure.Figure at 0x121598f60>"
      ]
     },
     "metadata": {},
     "output_type": "display_data"
    }
   ],
   "source": [
    "if __name__ == '__main__':\n",
    "    \n",
    "    # set the parameters\n",
    "    batch_size = 8\n",
    "    nb_epoch = 20\n",
    "    verbose = False\n",
    "    print('Training comma.ai model')\n",
    "    history_object = train_model(batch_size, nb_epoch, verbose)\n",
    "    print('DONE: Training comma.ai model')\n",
    "    \n",
    "    # plot the error\n",
    "    plotter(history_object)"
   ]
  },
  {
   "cell_type": "markdown",
   "metadata": {
    "collapsed": true
   },
   "source": [
    "-----------"
   ]
  },
  {
   "cell_type": "code",
   "execution_count": null,
   "metadata": {
    "collapsed": true
   },
   "outputs": [],
   "source": []
  }
 ],
 "metadata": {
  "kernelspec": {
   "display_name": "Python 3",
   "language": "python",
   "name": "python3"
  },
  "language_info": {
   "codemirror_mode": {
    "name": "ipython",
    "version": 3
   },
   "file_extension": ".py",
   "mimetype": "text/x-python",
   "name": "python",
   "nbconvert_exporter": "python",
   "pygments_lexer": "ipython3",
   "version": "3.5.2"
  },
  "widgets": {
   "state": {},
   "version": "1.1.2"
  }
 },
 "nbformat": 4,
 "nbformat_minor": 2
}
